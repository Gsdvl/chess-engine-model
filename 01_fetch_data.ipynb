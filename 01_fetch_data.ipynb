{
 "cells": [
  {
   "cell_type": "code",
   "execution_count": 3,
   "metadata": {},
   "outputs": [
    {
     "name": "stdout",
     "output_type": "stream",
     "text": [
      "Collecting gdown (from -r requirements.txt (line 1))\n",
      "  Using cached gdown-5.2.0-py3-none-any.whl.metadata (5.8 kB)\n",
      "Collecting beautifulsoup4 (from gdown->-r requirements.txt (line 1))\n",
      "  Downloading beautifulsoup4-4.12.3-py3-none-any.whl.metadata (3.8 kB)\n",
      "Collecting filelock (from gdown->-r requirements.txt (line 1))\n",
      "  Using cached filelock-3.16.1-py3-none-any.whl.metadata (2.9 kB)\n",
      "Collecting requests[socks] (from gdown->-r requirements.txt (line 1))\n",
      "  Using cached requests-2.32.3-py3-none-any.whl.metadata (4.6 kB)\n",
      "Requirement already satisfied: tqdm in /home/gabs/.local/lib/python3.10/site-packages (from gdown->-r requirements.txt (line 1)) (4.66.5)\n",
      "Collecting soupsieve>1.2 (from beautifulsoup4->gdown->-r requirements.txt (line 1))\n",
      "  Downloading soupsieve-2.6-py3-none-any.whl.metadata (4.6 kB)\n",
      "Collecting charset-normalizer<4,>=2 (from requests[socks]->gdown->-r requirements.txt (line 1))\n",
      "  Using cached charset_normalizer-3.4.0-cp310-cp310-manylinux_2_17_x86_64.manylinux2014_x86_64.whl.metadata (34 kB)\n",
      "Collecting idna<4,>=2.5 (from requests[socks]->gdown->-r requirements.txt (line 1))\n",
      "  Using cached idna-3.10-py3-none-any.whl.metadata (10 kB)\n",
      "Collecting urllib3<3,>=1.21.1 (from requests[socks]->gdown->-r requirements.txt (line 1))\n",
      "  Downloading urllib3-2.3.0-py3-none-any.whl.metadata (6.5 kB)\n",
      "Collecting certifi>=2017.4.17 (from requests[socks]->gdown->-r requirements.txt (line 1))\n",
      "  Downloading certifi-2024.12.14-py3-none-any.whl.metadata (2.3 kB)\n",
      "Collecting PySocks!=1.5.7,>=1.5.6 (from requests[socks]->gdown->-r requirements.txt (line 1))\n",
      "  Downloading PySocks-1.7.1-py3-none-any.whl.metadata (13 kB)\n",
      "Using cached gdown-5.2.0-py3-none-any.whl (18 kB)\n",
      "Downloading beautifulsoup4-4.12.3-py3-none-any.whl (147 kB)\n",
      "Using cached filelock-3.16.1-py3-none-any.whl (16 kB)\n",
      "Downloading certifi-2024.12.14-py3-none-any.whl (164 kB)\n",
      "Using cached charset_normalizer-3.4.0-cp310-cp310-manylinux_2_17_x86_64.manylinux2014_x86_64.whl (144 kB)\n",
      "Using cached idna-3.10-py3-none-any.whl (70 kB)\n",
      "Downloading PySocks-1.7.1-py3-none-any.whl (16 kB)\n",
      "Downloading soupsieve-2.6-py3-none-any.whl (36 kB)\n",
      "Downloading urllib3-2.3.0-py3-none-any.whl (128 kB)\n",
      "Using cached requests-2.32.3-py3-none-any.whl (64 kB)\n",
      "Installing collected packages: urllib3, soupsieve, PySocks, idna, filelock, charset-normalizer, certifi, requests, beautifulsoup4, gdown\n",
      "\u001b[31mERROR: pip's dependency resolver does not currently take into account all the packages that are installed. This behaviour is the source of the following dependency conflicts.\n",
      "fastai 2.7.18 requires pillow>=9.0.0, which is not installed.\n",
      "fastai 2.7.18 requires pyyaml, which is not installed.\n",
      "gradio 5.4.0 requires pillow<12.0,>=8.0, which is not installed.\n",
      "gradio 5.4.0 requires pyyaml<7.0,>=5.0, which is not installed.\n",
      "huggingface-hub 0.26.1 requires pyyaml>=5.1, which is not installed.\n",
      "openai 1.55.3 requires distro<2,>=1.7.0, which is not installed.\n",
      "requests-oauthlib 1.3.1 requires oauthlib>=3.0.0, which is not installed.\n",
      "torchvision 0.20.1 requires pillow!=8.3.*,>=5.3.0, which is not installed.\n",
      "wandb 0.19.1 requires click!=8.0.0,>=7.1, which is not installed.\n",
      "wandb 0.19.1 requires pyyaml, which is not installed.\n",
      "wandb 0.19.1 requires setproctitle, which is not installed.\u001b[0m\u001b[31m\n",
      "\u001b[0mSuccessfully installed PySocks-1.7.1 beautifulsoup4-4.12.3 certifi-2024.12.14 charset-normalizer-3.4.0 filelock-3.16.1 gdown-5.2.0 idna-3.10 requests-2.32.3 soupsieve-2.6 urllib3-2.3.0\n",
      "Note: you may need to restart the kernel to use updated packages.\n"
     ]
    }
   ],
   "source": [
    "%pip install -r requirements.txt"
   ]
  },
  {
   "cell_type": "code",
   "execution_count": 4,
   "metadata": {},
   "outputs": [
    {
     "name": "stdout",
     "output_type": "stream",
     "text": [
      "Downloading...\n",
      "From (original): https://drive.google.com/uc?id=17DjaWoEQ7gmc3pIvFHYOpZp99c_WPhZU\n",
      "From (redirected): https://drive.google.com/uc?id=17DjaWoEQ7gmc3pIvFHYOpZp99c_WPhZU&confirm=t&uuid=58900b96-e99e-434e-9e1b-d15bdc364d14\n",
      "To: /home/gabs/Documentos/EstudosProgramacao/DataScience/MachineLearning/chess-engine-model/chess_data.tar.gz\n",
      "100%|████████████████████████████████████████| 207M/207M [00:05<00:00, 34.6MB/s]\n",
      "chess_data/chessData.csv\n",
      "chess_data/tactic_evals.csv\n",
      "chess_data/\n",
      "chess_data/random_evals.csv\n"
     ]
    }
   ],
   "source": [
    "!gdown https://drive.google.com/uc?id=17DjaWoEQ7gmc3pIvFHYOpZp99c_WPhZU\n",
    "!tar -xvf chess_data.tar.gz"
   ]
  }
 ],
 "metadata": {
  "kernelspec": {
   "display_name": "chess",
   "language": "python",
   "name": "python3"
  },
  "language_info": {
   "codemirror_mode": {
    "name": "ipython",
    "version": 3
   },
   "file_extension": ".py",
   "mimetype": "text/x-python",
   "name": "python",
   "nbconvert_exporter": "python",
   "pygments_lexer": "ipython3",
   "version": "3.10.16"
  }
 },
 "nbformat": 4,
 "nbformat_minor": 2
}
